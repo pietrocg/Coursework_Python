{
 "cells": [
  {
   "cell_type": "markdown",
   "metadata": {},
   "source": [
    "## COVID 19 Data Visualiser by Pietro Capece Galeota"
   ]
  },
  {
   "cell_type": "markdown",
   "metadata": {},
   "source": [
    "# Importing all necessary modules"
   ]
  },
  {
   "cell_type": "markdown",
   "metadata": {},
   "source": [
    "For this coursework I shall be using the uk_covi19 module to obtain the data to plot, the json module to handle the JSON file that the API responds with, the pandas library to format the data in the JSON, the matplotlib library to plot the data into graphs, and the ipywidgets module to display the graphs in a widget."
   ]
  },
  {
   "cell_type": "code",
   "execution_count": 67,
   "metadata": {},
   "outputs": [],
   "source": [
    "from uk_covid19 import Cov19API\n",
    "import json\n",
    "import pandas as pd\n",
    "import matplotlib.pyplot as plt\n",
    "import ipywidgets as wdg"
   ]
  },
  {
   "cell_type": "markdown",
   "metadata": {},
   "source": [
    "# Creating API query"
   ]
  },
  {
   "cell_type": "markdown",
   "metadata": {},
   "source": [
    "To send the API query we require two variables to be introduced in the call to specify what type of data we want to retrieve."
   ]
  },
  {
   "cell_type": "markdown",
   "metadata": {},
   "source": [
    "First we collect data for cases, cases where hospitalisation was necessary, and the cumulative death rates:"
   ]
  },
  {
   "cell_type": "code",
   "execution_count": 68,
   "metadata": {},
   "outputs": [],
   "source": [
    "filters1 = [\n",
    "    'areaType=overview'\n",
    "]"
   ]
  },
  {
   "cell_type": "code",
   "execution_count": 69,
   "metadata": {},
   "outputs": [],
   "source": [
    "structure1 = {\n",
    "    \"Date\": \"date\",\n",
    "    \"Cases\": \"newCasesByPublishDate\",\n",
    "    \"Hospitalised\": \"newAdmissions\",\n",
    "    \"Deaths\": \"cumDeaths28DaysByDeathDateRate\"    \n",
    "}"
   ]
  },
  {
   "cell_type": "code",
   "execution_count": 70,
   "metadata": {},
   "outputs": [],
   "source": [
    "api = Cov19API(filters=filters1, structure=structure1)"
   ]
  },
  {
   "cell_type": "code",
   "execution_count": 71,
   "metadata": {},
   "outputs": [],
   "source": [
    "timeseries=api.get_json()"
   ]
  },
  {
   "cell_type": "markdown",
   "metadata": {},
   "source": [
    "Then we collect data for male and female cases:"
   ]
  },
  {
   "cell_type": "code",
   "execution_count": 72,
   "metadata": {},
   "outputs": [],
   "source": [
    "filters2 = [\n",
    "    'areaType=nation',\n",
    "    'areaName=England'\n",
    "]\n",
    "structure2 = {\n",
    "    \"Males\": \"maleCases\",\n",
    "    \"Females\": \"femaleCases\"\n",
    "}"
   ]
  },
  {
   "cell_type": "code",
   "execution_count": 73,
   "metadata": {},
   "outputs": [],
   "source": [
    "api = Cov19API(filters=filters2, structure=structure2)"
   ]
  },
  {
   "cell_type": "code",
   "execution_count": 74,
   "metadata": {},
   "outputs": [],
   "source": [
    "agedistribution=api.get_json()"
   ]
  },
  {
   "cell_type": "markdown",
   "metadata": {},
   "source": [
    "We also define the button that allows to refresh this data:"
   ]
  },
  {
   "cell_type": "code",
   "execution_count": 75,
   "metadata": {},
   "outputs": [
    {
     "data": {
      "application/vnd.jupyter.widget-view+json": {
       "model_id": "a63cc0f43d314db997b0ecea91afab2d",
       "version_major": 2,
       "version_minor": 0
      },
      "text/plain": [
       "Button(button_style='info', description='Refresh data', icon='download', style=ButtonStyle(), tooltip='Click t…"
      ]
     },
     "metadata": {},
     "output_type": "display_data"
    },
    {
     "name": "stdout",
     "output_type": "stream",
     "text": [
      "\n"
     ]
    }
   ],
   "source": [
    "def access_api(button):\n",
    "    print(\"Downloading API data...\")\n",
    "    api = Cov19API(filters=filters1, structure=structure1)\n",
    "    timeseries = api.get_json\n",
    "    api = Cov19API(filters=filters2, structure=structure2)\n",
    "    agedistribution = api.get_json\n",
    "    if timeseries != None and agedistribution != None:\n",
    "        print(\"API data was refreshed\")\n",
    "    else:\n",
    "        print(\"Initial API call failed, trying again. If this keeps happening, check your internet connection!\")\n",
    "        api = Cov19API(filters=filters1, structure=structure1)\n",
    "        timeseries = api.get_json\n",
    "        api = Cov19API(filters=filters2, structure=structure2)\n",
    "        agedistribution = api.get_json\n",
    " \n",
    "apibutton=wdg.Button(\n",
    "    description='Refresh data',\n",
    "    disabled=False,\n",
    "    button_style='info',\n",
    "    tooltip='Click to download current Public Health England data',\n",
    "    icon='download'\n",
    ")\n",
    "apibutton.on_click(access_api)\n",
    "display(apibutton)\n",
    "print()"
   ]
  },
  {
   "cell_type": "markdown",
   "metadata": {},
   "source": [
    "# Saving API query as JSON"
   ]
  },
  {
   "cell_type": "markdown",
   "metadata": {},
   "source": [
    "We save the output of the previous query into a JSON file below:"
   ]
  },
  {
   "cell_type": "code",
   "execution_count": 76,
   "metadata": {},
   "outputs": [],
   "source": [
    "with open(\"timeseries.json\", \"wt\") as OUTF:\n",
    "    json.dump(timeseries, OUTF)"
   ]
  },
  {
   "cell_type": "code",
   "execution_count": 77,
   "metadata": {},
   "outputs": [],
   "source": [
    "with open(\"agedistribution.json\", \"wt\") as OUTF:\n",
    "    json.dump(agedistribution, OUTF)"
   ]
  },
  {
   "cell_type": "markdown",
   "metadata": {},
   "source": [
    "Here we enable MatPlotLib output:"
   ]
  },
  {
   "cell_type": "code",
   "execution_count": 78,
   "metadata": {},
   "outputs": [],
   "source": [
    "%matplotlib inline\n",
    "plt.rcParams['figure.dpi'] = 100"
   ]
  },
  {
   "cell_type": "markdown",
   "metadata": {},
   "source": [
    "# Loading JSON"
   ]
  },
  {
   "cell_type": "markdown",
   "metadata": {},
   "source": [
    "Next we save the list of dictionaries contained in the JSON file as list."
   ]
  },
  {
   "cell_type": "code",
   "execution_count": 79,
   "metadata": {},
   "outputs": [],
   "source": [
    "with open(\"timeseries.json\", \"rt\") as INFILE:\n",
    "    data=json.load(INFILE)"
   ]
  },
  {
   "cell_type": "code",
   "execution_count": 80,
   "metadata": {},
   "outputs": [],
   "source": [
    "datalist=data['data']"
   ]
  },
  {
   "cell_type": "markdown",
   "metadata": {},
   "source": [
    "Now we extract the dates from the individual dictionary entries in the list, then sort them from newest to oldest."
   ]
  },
  {
   "cell_type": "code",
   "execution_count": 81,
   "metadata": {},
   "outputs": [],
   "source": [
    "dates=[dictionary['Date'] for dictionary in datalist ]\n",
    "dates.sort()"
   ]
  },
  {
   "cell_type": "markdown",
   "metadata": {},
   "source": [
    "# Parsing data to Pandas"
   ]
  },
  {
   "cell_type": "markdown",
   "metadata": {},
   "source": [
    "Once the dates have been obtained, they must be parsed into a format that can be transformed into a graph."
   ]
  },
  {
   "cell_type": "code",
   "execution_count": 82,
   "metadata": {},
   "outputs": [],
   "source": [
    "def parse_date(datestring):\n",
    "    \"\"\" Convert a date string into a pandas datetime object \"\"\"\n",
    "    return pd.to_datetime(datestring, format=\"%Y-%m-%d\")"
   ]
  },
  {
   "cell_type": "markdown",
   "metadata": {},
   "source": [
    "This function above will transform a date into a pandas date time type, so it will allow us to plot it. Below we apply this function to start and end dates, so we know the range of our table."
   ]
  },
  {
   "cell_type": "code",
   "execution_count": 83,
   "metadata": {},
   "outputs": [],
   "source": [
    "startdate=parse_date(dates[0])\n",
    "enddate=parse_date(dates[-1])"
   ]
  },
  {
   "cell_type": "markdown",
   "metadata": {},
   "source": [
    "# Creating Dataframe"
   ]
  },
  {
   "cell_type": "markdown",
   "metadata": {},
   "source": [
    "Here we instatiate a dataframe with the data we have so far. Our previously parsed dates are used as the range, whilst the columns for the data have the name of the data we extracted from the API for convenience."
   ]
  },
  {
   "cell_type": "code",
   "execution_count": 84,
   "metadata": {},
   "outputs": [],
   "source": [
    "index=pd.date_range(startdate, enddate, freq='D')\n",
    "timeseriesdf=pd.DataFrame(index=index, columns=['Cases', 'Hospitalised', 'Deaths'])"
   ]
  },
  {
   "cell_type": "markdown",
   "metadata": {},
   "source": [
    "# Populating Dataframe"
   ]
  },
  {
   "cell_type": "markdown",
   "metadata": {},
   "source": [
    "Below we iterate through the list of dictionaries obtained from the JSON by using the date in which the data was collected and then iterate through the elements of the dictionary by iterating through the list of keys in those dictionaries."
   ]
  },
  {
   "cell_type": "code",
   "execution_count": 85,
   "metadata": {},
   "outputs": [],
   "source": [
    "for entry in datalist:\n",
    "    date=parse_date(entry['Date'])\n",
    "    for column in ['Cases', 'Hospitalised', 'Deaths']:\n",
    "        if pd.isna(timeseriesdf.loc[date, column]): \n",
    "            value= float(entry[column]) if entry[column]!=None else 0.0\n",
    "            timeseriesdf.loc[date, column]=value\n",
    "            \n",
    "timeseriesdf.fillna(0.0, inplace=True)"
   ]
  },
  {
   "cell_type": "markdown",
   "metadata": {},
   "source": [
    "We can then plot the populated dataframe using Matplotlib. Below is the graph of cases:"
   ]
  },
  {
   "cell_type": "code",
   "execution_count": 86,
   "metadata": {},
   "outputs": [],
   "source": [
    "#timeseriesdf.plot()"
   ]
  },
  {
   "cell_type": "markdown",
   "metadata": {},
   "source": [
    "We can also plot this graph on a logarythmic scale."
   ]
  },
  {
   "cell_type": "code",
   "execution_count": 87,
   "metadata": {},
   "outputs": [],
   "source": [
    "#timeseriesdf.plot(logy=True)"
   ]
  },
  {
   "cell_type": "markdown",
   "metadata": {},
   "source": [
    "# Getting the Male and Female graphs"
   ]
  },
  {
   "cell_type": "markdown",
   "metadata": {},
   "source": [
    "Next we create a graph of the case for Males and Females. First we open the file we retrieved from the API."
   ]
  },
  {
   "cell_type": "code",
   "execution_count": 88,
   "metadata": {},
   "outputs": [],
   "source": [
    "with open(\"agedistribution.json\", \"rt\") as INFILE:\n",
    "    data=json.load(INFILE)"
   ]
  },
  {
   "cell_type": "markdown",
   "metadata": {},
   "source": [
    "Then we save the data in the file as a dictionary for males and females."
   ]
  },
  {
   "cell_type": "code",
   "execution_count": 89,
   "metadata": {},
   "outputs": [],
   "source": [
    "datadic=data['data'][0]"
   ]
  },
  {
   "cell_type": "code",
   "execution_count": 90,
   "metadata": {},
   "outputs": [],
   "source": [
    "males=datadic['Males']\n",
    "females=datadic['Females']"
   ]
  },
  {
   "cell_type": "markdown",
   "metadata": {},
   "source": [
    "Here we collect the ange ranges present in the data. BEcause the ange ranges are the same for male and female we can do it only for males."
   ]
  },
  {
   "cell_type": "code",
   "execution_count": 91,
   "metadata": {},
   "outputs": [],
   "source": [
    "ageranges=[x['age'] for x in males]"
   ]
  },
  {
   "cell_type": "markdown",
   "metadata": {},
   "source": [
    "Next we define a function to turn the age range as a string into a number. We remove the characters around the age range and select the lowest number as the number to plot. Then we find the minimum age of the age ranges for the male and female groups."
   ]
  },
  {
   "cell_type": "code",
   "execution_count": 92,
   "metadata": {},
   "outputs": [],
   "source": [
    "def min_age(agerange):\n",
    "    agerange=agerange.replace('+','')\n",
    "    start=agerange.split('_')[0]\n",
    "    return int(start)"
   ]
  },
  {
   "cell_type": "code",
   "execution_count": 93,
   "metadata": {},
   "outputs": [],
   "source": [
    "ageranges.sort(key=min_age)"
   ]
  },
  {
   "cell_type": "markdown",
   "metadata": {},
   "source": [
    "Here we create a new dataframe to contain the female and male columns, and using the newly transformed age ranges as the index."
   ]
  },
  {
   "cell_type": "code",
   "execution_count": 94,
   "metadata": {},
   "outputs": [],
   "source": [
    "age_df=pd.DataFrame(index=ageranges, columns=['Males','Females', 'Total'])"
   ]
  },
  {
   "cell_type": "markdown",
   "metadata": {},
   "source": [
    "Then we populate the dataframe with data from our \"males\" and \"females\" lists."
   ]
  },
  {
   "cell_type": "code",
   "execution_count": 95,
   "metadata": {},
   "outputs": [],
   "source": [
    "for entry in males:\n",
    "    ageband=entry['age']\n",
    "    age_df.loc[ageband, 'Males']=entry['value']\n",
    "    \n",
    "for entry in females:\n",
    "    ageband=entry['age']\n",
    "    age_df.loc[ageband, 'Females']=entry['value']\n",
    "    \n",
    "age_df['Total']=age_df['Males']+age_df['Females']"
   ]
  },
  {
   "cell_type": "markdown",
   "metadata": {},
   "source": [
    "And then we plot this data as a bar chart, one for the Males and Females comaparison, one for the total cases."
   ]
  },
  {
   "cell_type": "code",
   "execution_count": 96,
   "metadata": {},
   "outputs": [],
   "source": [
    "#age_df.plot(kind='bar', y=['Males','Females', 'Total'])"
   ]
  },
  {
   "cell_type": "code",
   "execution_count": 97,
   "metadata": {},
   "outputs": [],
   "source": [
    "#age_df.plot(kind='bar', y='Total')"
   ]
  },
  {
   "cell_type": "markdown",
   "metadata": {},
   "source": [
    "Next we save the data to a pickle file."
   ]
  },
  {
   "cell_type": "code",
   "execution_count": 98,
   "metadata": {},
   "outputs": [],
   "source": [
    "timeseriesdf.to_pickle(\"timeseriesdf.pkl\")\n",
    "age_df.to_pickle(\"agedf.pkl\")"
   ]
  },
  {
   "cell_type": "code",
   "execution_count": 99,
   "metadata": {},
   "outputs": [],
   "source": [
    "age_df=pd.read_pickle(\"agedf.pkl\")"
   ]
  },
  {
   "cell_type": "markdown",
   "metadata": {},
   "source": [
    "Below we create a widget to allow us to toggle between the different graphs that we defined above."
   ]
  },
  {
   "cell_type": "code",
   "execution_count": 100,
   "metadata": {},
   "outputs": [
    {
     "data": {
      "application/vnd.jupyter.widget-view+json": {
       "model_id": "a899247294d04b4dae6a87eb9fc27425",
       "version_major": 2,
       "version_minor": 0
      },
      "text/plain": [
       "SelectMultiple(description='Sex', index=(0, 1), options=('Males', 'Females', 'Total'), rows=3, value=('Males',…"
      ]
     },
     "metadata": {},
     "output_type": "display_data"
    },
    {
     "data": {
      "application/vnd.jupyter.widget-view+json": {
       "model_id": "f01c806b8d654354be287586dcd79436",
       "version_major": 2,
       "version_minor": 0
      },
      "text/plain": [
       "Output()"
      ]
     },
     "metadata": {},
     "output_type": "display_data"
    }
   ],
   "source": [
    "agecols=wdg.SelectMultiple(\n",
    "    options=['Males', 'Females', 'Total'],\n",
    "    value=['Males', 'Females'],\n",
    "    rows=3,\n",
    "    description='Sex',\n",
    "    disabled=False\n",
    ")\n",
    "\n",
    "def age_graph(graphcolumns):\n",
    "    ncols=len(graphcolumns)\n",
    "    if ncols>0:\n",
    "        age_df.plot(kind='bar', y=list(graphcolumns))\n",
    "    else:\n",
    "        print(\"Click to select data for graph\")\n",
    "        print(\"(CTRL-Click to select more than one category)\")\n",
    "       \n",
    "output=wdg.interactive_output(age_graph, {'graphcolumns': agecols})\n",
    "\n",
    "display(agecols, output)"
   ]
  },
  {
   "cell_type": "code",
   "execution_count": 101,
   "metadata": {},
   "outputs": [],
   "source": [
    "timeseriesdf=pd.read_pickle(\"timeseriesdf.pkl\")"
   ]
  },
  {
   "cell_type": "markdown",
   "metadata": {},
   "source": [
    "Here we define a widget to allow us to toggle inbetween the first graphs that we plotted."
   ]
  },
  {
   "cell_type": "code",
   "execution_count": 102,
   "metadata": {},
   "outputs": [],
   "source": [
    "series=wdg.SelectMultiple(\n",
    "    options=['Cases', 'Hospitalised', 'Deaths'],\n",
    "    value=['Cases', 'Hospitalised', 'Deaths'],\n",
    "    rows=3,\n",
    "    description='Stats:',\n",
    "    disabled=False\n",
    ")\n",
    "\n",
    "scale=wdg.RadioButtons(\n",
    "    options=['linear', 'log'],\n",
    "    description='Scale:',\n",
    "    disabled=False\n",
    ")\n",
    "\n",
    "controls=wdg.HBox([series, scale])\n",
    "\n",
    "def timeseries_graph(gcols, gscale):\n",
    "    if gscale=='linear':\n",
    "        logscale=False\n",
    "    else:\n",
    "        logscale=True\n",
    "    ncols=len(gcols)\n",
    "    if ncols>0:\n",
    "        timeseriesdf[list(gcols)].plot(logy=logscale)\n",
    "    else:\n",
    "        print(\"Click to select data for graph\")\n",
    "        print(\"(CTRL-Click to select more than one category)\")\n",
    "\n",
    "graph=wdg.interactive_output(timeseries_graph, {'gcols': series, 'gscale': scale})\n",
    "\n",
    "#display(controls, graph)"
   ]
  },
  {
   "cell_type": "markdown",
   "metadata": {},
   "source": [
    "Lastly we define the position of the widgets."
   ]
  },
  {
   "cell_type": "code",
   "execution_count": 103,
   "metadata": {},
   "outputs": [
    {
     "data": {
      "application/vnd.jupyter.widget-view+json": {
       "model_id": "4ee95739d4e449ffb3111d2298683a07",
       "version_major": 2,
       "version_minor": 0
      },
      "text/plain": [
       "HBox(children=(Output(), VBox(children=(SelectMultiple(description='Stats:', index=(0, 1, 2), options=('Cases'…"
      ]
     },
     "metadata": {},
     "output_type": "display_data"
    }
   ],
   "source": [
    "ctrls=wdg.VBox([series, scale])\n",
    "form=wdg.HBox([graph, ctrls])\n",
    "display(form)"
   ]
  },
  {
   "cell_type": "markdown",
   "metadata": {},
   "source": [
    "That's all folks! Thank you for taking the time to look at my first project in Python!"
   ]
  }
 ],
 "metadata": {
  "kernelspec": {
   "display_name": "Python 3",
   "language": "python",
   "name": "python3"
  },
  "language_info": {
   "codemirror_mode": {
    "name": "ipython",
    "version": 3
   },
   "file_extension": ".py",
   "mimetype": "text/x-python",
   "name": "python",
   "nbconvert_exporter": "python",
   "pygments_lexer": "ipython3",
   "version": "3.8.3"
  }
 },
 "nbformat": 4,
 "nbformat_minor": 4
}
